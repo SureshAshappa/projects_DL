{
 "cells": [
  {
   "cell_type": "code",
   "execution_count": 1,
   "id": "51baf5f5",
   "metadata": {
    "execution": {
     "iopub.execute_input": "2021-04-24T14:44:43.046694Z",
     "iopub.status.busy": "2021-04-24T14:44:43.044685Z",
     "iopub.status.idle": "2021-04-24T14:44:50.161629Z",
     "shell.execute_reply": "2021-04-24T14:44:50.160929Z"
    },
    "papermill": {
     "duration": 7.141906,
     "end_time": "2021-04-24T14:44:50.161813",
     "exception": false,
     "start_time": "2021-04-24T14:44:43.019907",
     "status": "completed"
    },
    "tags": []
   },
   "outputs": [],
   "source": [
    "import numpy as np\n",
    "import pandas as pd\n",
    "import os\n",
    "\n",
    "import matplotlib.pyplot as plt\n",
    "import tensorflow as tf\n",
    "from tensorflow.keras.utils import to_categorical\n",
    "from tensorflow.keras.preprocessing.image import load_img, img_to_array\n",
    "from tensorflow.python.keras.preprocessing.image import ImageDataGenerator\n",
    "from sklearn.metrics import classification_report, log_loss, accuracy_score\n",
    "from sklearn.model_selection import train_test_split"
   ]
  },
  {
   "cell_type": "code",
   "execution_count": 2,
   "id": "31d3d357",
   "metadata": {
    "execution": {
     "iopub.execute_input": "2021-04-24T14:44:50.203435Z",
     "iopub.status.busy": "2021-04-24T14:44:50.202458Z",
     "iopub.status.idle": "2021-04-24T14:44:50.205540Z",
     "shell.execute_reply": "2021-04-24T14:44:50.206052Z"
    },
    "papermill": {
     "duration": 0.025628,
     "end_time": "2021-04-24T14:44:50.206210",
     "exception": false,
     "start_time": "2021-04-24T14:44:50.180582",
     "status": "completed"
    },
    "tags": []
   },
   "outputs": [],
   "source": [
    "''' train and test path '''\n",
    "train_path = 'C:/Users/SURESH A/Downloads/BT/Training'\n",
    "test_path = 'C:/Users/SURESH A/Downloads/BT/Testing'"
   ]
  },
  {
   "cell_type": "code",
   "execution_count": 7,
   "id": "bec4654b",
   "metadata": {
    "execution": {
     "iopub.execute_input": "2021-04-24T14:44:50.247232Z",
     "iopub.status.busy": "2021-04-24T14:44:50.246531Z",
     "iopub.status.idle": "2021-04-24T14:44:50.272316Z",
     "shell.execute_reply": "2021-04-24T14:44:50.271767Z"
    },
    "papermill": {
     "duration": 0.048108,
     "end_time": "2021-04-24T14:44:50.272467",
     "exception": false,
     "start_time": "2021-04-24T14:44:50.224359",
     "status": "completed"
    },
    "tags": []
   },
   "outputs": [
    {
     "name": "stdout",
     "output_type": "stream",
     "text": [
      "['glioma_tumor', 'meningioma_tumor', 'no_tumor', 'pituitary_tumor']\n"
     ]
    }
   ],
   "source": [
    "File=[]\n",
    "for f in os.listdir(train_path):\n",
    "    File += [f]\n",
    "\n",
    "'''  total number of classes '''\n",
    "print(File)"
   ]
  },
  {
   "cell_type": "code",
   "execution_count": 8,
   "id": "70a3efb0",
   "metadata": {
    "_cell_guid": "79c7e3d0-c299-4dcb-8224-4455121ee9b0",
    "_uuid": "d629ff2d2480ee46fbb7e2d37f6b5fab8052498a",
    "execution": {
     "iopub.execute_input": "2021-04-24T14:44:50.317231Z",
     "iopub.status.busy": "2021-04-24T14:44:50.316487Z",
     "iopub.status.idle": "2021-04-24T14:45:26.665160Z",
     "shell.execute_reply": "2021-04-24T14:45:26.664076Z"
    },
    "papermill": {
     "duration": 36.373786,
     "end_time": "2021-04-24T14:45:26.665329",
     "exception": false,
     "start_time": "2021-04-24T14:44:50.291543",
     "status": "completed"
    },
    "tags": []
   },
   "outputs": [],
   "source": [
    "''' reading images '''\n",
    "\n",
    "train_data = []\n",
    "\n",
    "''' label encoding '''\n",
    "mapping={'glioma_tumor':0, 'meningioma_tumor':1, 'no_tumor':2, 'pituitary_tumor':3}\n",
    "\n",
    "count=0\n",
    "\n",
    "for f in os.listdir(train_path):\n",
    "    ''' joining path '''\n",
    "    path = os.path.join(train_path, f)\n",
    "    for im in os.listdir(path):\n",
    "        ''' loading an image '''\n",
    "        img = load_img(os.path.join(path, im), grayscale=False, color_mode='rgb', target_size=(150,150))\n",
    "        ''' converting an image to array '''\n",
    "        img = img_to_array(img)\n",
    "        ''' scaling  '''\n",
    "        img = img / 255.0\n",
    "        ''' appending image to train_data '''\n",
    "        train_data.append([img, count])     \n",
    "    count=count+1"
   ]
  },
  {
   "cell_type": "code",
   "execution_count": 10,
   "id": "f98db71e",
   "metadata": {
    "execution": {
     "iopub.execute_input": "2021-04-24T14:45:26.713393Z",
     "iopub.status.busy": "2021-04-24T14:45:26.712646Z",
     "iopub.status.idle": "2021-04-24T14:45:30.976660Z",
     "shell.execute_reply": "2021-04-24T14:45:30.976079Z"
    },
    "papermill": {
     "duration": 4.290356,
     "end_time": "2021-04-24T14:45:30.976816",
     "exception": false,
     "start_time": "2021-04-24T14:45:26.686460",
     "status": "completed"
    },
    "tags": []
   },
   "outputs": [],
   "source": [
    "test_data = []\n",
    "\n",
    "''' label encoding '''\n",
    "mapping={'glioma_tumor':0, 'meningioma_tumor':1, 'no_tumor':2, 'pituitary_tumor':3}\n",
    "count=0\n",
    "\n",
    "for f in os.listdir(test_path):\n",
    "    ''' joining path '''\n",
    "    path=os.path.join(test_path, f)\n",
    "    for im in os.listdir(path):\n",
    "        ''' loading an image '''\n",
    "        img = load_img(os.path.join(path, im), grayscale=False, color_mode='rgb', target_size=(150,150))\n",
    "        ''' converting an image to array '''\n",
    "        img = img_to_array(img)\n",
    "        ''' scaling '''\n",
    "        img = img/255.0\n",
    "        ''' appending an image to test_data'''\n",
    "        test_data.append([img, count])         \n",
    "    count=count+1"
   ]
  },
  {
   "cell_type": "code",
   "execution_count": 15,
   "id": "174b1c21",
   "metadata": {
    "execution": {
     "iopub.execute_input": "2021-04-24T14:45:31.022857Z",
     "iopub.status.busy": "2021-04-24T14:45:31.021114Z",
     "iopub.status.idle": "2021-04-24T14:45:31.024864Z",
     "shell.execute_reply": "2021-04-24T14:45:31.024308Z"
    },
    "papermill": {
     "duration": 0.028548,
     "end_time": "2021-04-24T14:45:31.025016",
     "exception": false,
     "start_time": "2021-04-24T14:45:30.996468",
     "status": "completed"
    },
    "tags": []
   },
   "outputs": [],
   "source": [
    "train_images, train_labels = zip(*train_data)\n",
    "test_images, test_labels = zip(*test_data)"
   ]
  },
  {
   "cell_type": "code",
   "execution_count": 16,
   "id": "70f01cba",
   "metadata": {
    "execution": {
     "iopub.execute_input": "2021-04-24T14:45:31.069506Z",
     "iopub.status.busy": "2021-04-24T14:45:31.068812Z",
     "iopub.status.idle": "2021-04-24T14:45:31.374592Z",
     "shell.execute_reply": "2021-04-24T14:45:31.375397Z"
    },
    "papermill": {
     "duration": 0.331078,
     "end_time": "2021-04-24T14:45:31.375671",
     "exception": false,
     "start_time": "2021-04-24T14:45:31.044593",
     "status": "completed"
    },
    "tags": []
   },
   "outputs": [
    {
     "name": "stdout",
     "output_type": "stream",
     "text": [
      "(2870, 150, 150, 3)\n",
      "(2870, 4)\n"
     ]
    }
   ],
   "source": [
    "''' converting labels into to_categorical '''\n",
    "train_labels = to_categorical(train_labels)\n",
    "\n",
    "''' coverting train_images into numpy array '''\n",
    "train_images = np.array(train_images)\n",
    "\n",
    "''' converting train_labesl into numpy array '''\n",
    "train_labels = np.array(train_labels)\n",
    "\n",
    "''' shaep of train_images and train_labels '''\n",
    "print(train_images.shape)\n",
    "print(train_labels.shape)"
   ]
  },
  {
   "cell_type": "code",
   "execution_count": 18,
   "id": "5cfe9d64",
   "metadata": {
    "execution": {
     "iopub.execute_input": "2021-04-24T14:45:31.424124Z",
     "iopub.status.busy": "2021-04-24T14:45:31.422656Z",
     "iopub.status.idle": "2021-04-24T14:45:31.469494Z",
     "shell.execute_reply": "2021-04-24T14:45:31.468891Z"
    },
    "papermill": {
     "duration": 0.072959,
     "end_time": "2021-04-24T14:45:31.469644",
     "exception": false,
     "start_time": "2021-04-24T14:45:31.396685",
     "status": "completed"
    },
    "tags": []
   },
   "outputs": [
    {
     "name": "stdout",
     "output_type": "stream",
     "text": [
      "(394, 150, 150, 3)\n",
      "(394, 4, 2)\n"
     ]
    }
   ],
   "source": [
    "''' converting labels into to_categorical '''\n",
    "test_labels = to_categorical(test_labels)\n",
    "\n",
    "''' coverting test_images into numpy array '''\n",
    "test_images = np.array(test_images)\n",
    "\n",
    "''' converting train_labesl into numpy array '''\n",
    "test_labels = np.array(test_labels)\n",
    "\n",
    "''' shaep of test_images and test_labels '''\n",
    "print(test_images.shape)\n",
    "print(test_labels.shape)"
   ]
  },
  {
   "cell_type": "code",
   "execution_count": 19,
   "id": "43c69ee1",
   "metadata": {
    "execution": {
     "iopub.execute_input": "2021-04-24T14:45:31.515535Z",
     "iopub.status.busy": "2021-04-24T14:45:31.514841Z",
     "iopub.status.idle": "2021-04-24T14:45:31.520075Z",
     "shell.execute_reply": "2021-04-24T14:45:31.519518Z"
    },
    "papermill": {
     "duration": 0.029869,
     "end_time": "2021-04-24T14:45:31.520212",
     "exception": false,
     "start_time": "2021-04-24T14:45:31.490343",
     "status": "completed"
    },
    "tags": []
   },
   "outputs": [],
   "source": [
    "''' reshaping images '''\n",
    "train_images = train_images.reshape(-1,150,150,3)\n",
    "test_images = test_images.reshape(-1,150,150,3)"
   ]
  },
  {
   "cell_type": "code",
   "execution_count": 21,
   "id": "413fb38b",
   "metadata": {
    "execution": {
     "iopub.execute_input": "2021-04-24T14:45:31.568106Z",
     "iopub.status.busy": "2021-04-24T14:45:31.566708Z",
     "iopub.status.idle": "2021-04-24T14:45:31.855628Z",
     "shell.execute_reply": "2021-04-24T14:45:31.854960Z"
    },
    "papermill": {
     "duration": 0.315482,
     "end_time": "2021-04-24T14:45:31.855786",
     "exception": false,
     "start_time": "2021-04-24T14:45:31.540304",
     "status": "completed"
    },
    "tags": []
   },
   "outputs": [],
   "source": [
    "''' train test split '''\n",
    "X_train, X_test, y_train, y_test = train_test_split(train_images,train_labels,test_size=0.2,random_state=44)"
   ]
  },
  {
   "cell_type": "code",
   "execution_count": 22,
   "id": "946b6ebf",
   "metadata": {
    "execution": {
     "iopub.execute_input": "2021-04-24T14:45:31.908874Z",
     "iopub.status.busy": "2021-04-24T14:45:31.906667Z",
     "iopub.status.idle": "2021-04-24T14:45:31.912195Z",
     "shell.execute_reply": "2021-04-24T14:45:31.911247Z"
    },
    "papermill": {
     "duration": 0.034546,
     "end_time": "2021-04-24T14:45:31.912405",
     "exception": false,
     "start_time": "2021-04-24T14:45:31.877859",
     "status": "completed"
    },
    "tags": []
   },
   "outputs": [
    {
     "name": "stdout",
     "output_type": "stream",
     "text": [
      "(2296, 150, 150, 3)\n",
      "(574, 150, 150, 3)\n",
      "(2296, 4)\n",
      "(574, 4)\n"
     ]
    }
   ],
   "source": [
    "''' shape of X_train, X_test, y_train, y_test '''\n",
    "print(X_train.shape)\n",
    "print(X_test.shape)\n",
    "print(y_train.shape)\n",
    "print(y_test.shape)"
   ]
  },
  {
   "cell_type": "code",
   "execution_count": 23,
   "id": "3c444094",
   "metadata": {
    "execution": {
     "iopub.execute_input": "2021-04-24T14:45:31.961373Z",
     "iopub.status.busy": "2021-04-24T14:45:31.960533Z",
     "iopub.status.idle": "2021-04-24T14:45:31.965175Z",
     "shell.execute_reply": "2021-04-24T14:45:31.964615Z"
    },
    "papermill": {
     "duration": 0.030058,
     "end_time": "2021-04-24T14:45:31.965313",
     "exception": false,
     "start_time": "2021-04-24T14:45:31.935255",
     "status": "completed"
    },
    "tags": []
   },
   "outputs": [],
   "source": [
    "''' data Augmentation '''\n",
    "data_aug = ImageDataGenerator(horizontal_flip=True, vertical_flip=True, rotation_range=20, zoom_range=0.2,\n",
    "                    width_shift_range=0.2, height_shift_range=0.2, shear_range=0.1, fill_mode=\"nearest\")"
   ]
  },
  {
   "cell_type": "code",
   "execution_count": 24,
   "id": "317cee97",
   "metadata": {
    "execution": {
     "iopub.execute_input": "2021-04-24T14:45:32.015680Z",
     "iopub.status.busy": "2021-04-24T14:45:32.014931Z",
     "iopub.status.idle": "2021-04-24T14:45:45.632465Z",
     "shell.execute_reply": "2021-04-24T14:45:45.631824Z"
    },
    "papermill": {
     "duration": 13.646104,
     "end_time": "2021-04-24T14:45:45.632622",
     "exception": false,
     "start_time": "2021-04-24T14:45:31.986518",
     "status": "completed"
    },
    "tags": []
   },
   "outputs": [
    {
     "name": "stdout",
     "output_type": "stream",
     "text": [
      "Downloading data from https://storage.googleapis.com/tensorflow/keras-applications/densenet/densenet201_weights_tf_dim_ordering_tf_kernels_notop.h5\n",
      "74842112/74836368 [==============================] - 199s 3us/step\n",
      "74850304/74836368 [==============================] - 199s 3us/step\n"
     ]
    }
   ],
   "source": [
    "''' DenseNet201 Model '''\n",
    "model1 = tf.keras.applications.DenseNet201(input_shape=(150,150,3),include_top=False,weights='imagenet',pooling='avg')\n",
    "\n",
    "''' freezing layers '''\n",
    "model1.trainable = False"
   ]
  },
  {
   "cell_type": "code",
   "execution_count": 25,
   "id": "1ef55329",
   "metadata": {
    "execution": {
     "iopub.execute_input": "2021-04-24T14:45:45.699693Z",
     "iopub.status.busy": "2021-04-24T14:45:45.698612Z",
     "iopub.status.idle": "2021-04-24T14:45:45.789515Z",
     "shell.execute_reply": "2021-04-24T14:45:45.788869Z"
    },
    "papermill": {
     "duration": 0.127232,
     "end_time": "2021-04-24T14:45:45.789669",
     "exception": false,
     "start_time": "2021-04-24T14:45:45.662437",
     "status": "completed"
    },
    "tags": []
   },
   "outputs": [],
   "source": [
    "inp = model1.input\n",
    "''' Hidden Layer '''\n",
    "x = tf.keras.layers.Dense(128, activation='relu')(model1.output)\n",
    "''' Classification Layer '''\n",
    "out = tf.keras.layers.Dense(4, activation='softmax')(x)\n",
    "\n",
    "''' Model '''\n",
    "model = tf.keras.Model(inputs=inp, outputs=out)\n",
    "\n",
    "''' compile the model '''\n",
    "model.compile(loss = 'categorical_crossentropy', optimizer='adam', metrics=['accuracy'])"
   ]
  },
  {
   "cell_type": "code",
   "execution_count": 26,
   "id": "de4c0d37",
   "metadata": {
    "execution": {
     "iopub.execute_input": "2021-04-24T14:45:45.858934Z",
     "iopub.status.busy": "2021-04-24T14:45:45.858307Z",
     "iopub.status.idle": "2021-04-24T14:53:34.641740Z",
     "shell.execute_reply": "2021-04-24T14:53:34.642728Z"
    },
    "papermill": {
     "duration": 468.82374,
     "end_time": "2021-04-24T14:53:34.642947",
     "exception": false,
     "start_time": "2021-04-24T14:45:45.819207",
     "status": "completed"
    },
    "tags": []
   },
   "outputs": [
    {
     "name": "stdout",
     "output_type": "stream",
     "text": [
      "Epoch 1/10\n",
      "72/72 [==============================] - 295s 4s/step - loss: 0.8462 - accuracy: 0.6577 - val_loss: 0.5482 - val_accuracy: 0.7753\n",
      "Epoch 2/10\n",
      "72/72 [==============================] - 294s 4s/step - loss: 0.5155 - accuracy: 0.7949 - val_loss: 0.5067 - val_accuracy: 0.8136\n",
      "Epoch 3/10\n",
      "72/72 [==============================] - 291s 4s/step - loss: 0.4924 - accuracy: 0.8105 - val_loss: 0.6010 - val_accuracy: 0.7805\n",
      "Epoch 4/10\n",
      "72/72 [==============================] - 278s 4s/step - loss: 0.4214 - accuracy: 0.8423 - val_loss: 0.4445 - val_accuracy: 0.8310\n",
      "Epoch 5/10\n",
      "72/72 [==============================] - 278s 4s/step - loss: 0.4329 - accuracy: 0.8349 - val_loss: 0.4524 - val_accuracy: 0.8345\n",
      "Epoch 6/10\n",
      "72/72 [==============================] - 273s 4s/step - loss: 0.3998 - accuracy: 0.8554 - val_loss: 0.4273 - val_accuracy: 0.8397\n",
      "Epoch 7/10\n",
      "72/72 [==============================] - 281s 4s/step - loss: 0.3853 - accuracy: 0.8445 - val_loss: 0.4158 - val_accuracy: 0.8415\n",
      "Epoch 8/10\n",
      "72/72 [==============================] - 280s 4s/step - loss: 0.3644 - accuracy: 0.8580 - val_loss: 0.5147 - val_accuracy: 0.8084\n",
      "Epoch 9/10\n",
      "72/72 [==============================] - 284s 4s/step - loss: 0.3437 - accuracy: 0.8667 - val_loss: 0.4441 - val_accuracy: 0.8467\n",
      "Epoch 10/10\n",
      "72/72 [==============================] - 283s 4s/step - loss: 0.3346 - accuracy: 0.8776 - val_loss: 0.3861 - val_accuracy: 0.8571\n"
     ]
    }
   ],
   "source": [
    "''' training '''\n",
    "history = model.fit(data_aug.flow(X_train, y_train, batch_size=32), validation_data=(X_test, y_test), epochs=10)"
   ]
  },
  {
   "cell_type": "code",
   "execution_count": 27,
   "id": "ea754fb3",
   "metadata": {
    "execution": {
     "iopub.execute_input": "2021-04-24T14:53:36.194089Z",
     "iopub.status.busy": "2021-04-24T14:53:36.192856Z",
     "iopub.status.idle": "2021-04-24T14:53:40.498485Z",
     "shell.execute_reply": "2021-04-24T14:53:40.499448Z"
    },
    "papermill": {
     "duration": 5.080215,
     "end_time": "2021-04-24T14:53:40.499721",
     "exception": false,
     "start_time": "2021-04-24T14:53:35.419506",
     "status": "completed"
    },
    "tags": []
   },
   "outputs": [
    {
     "name": "stdout",
     "output_type": "stream",
     "text": [
      "              precision    recall  f1-score   support\n",
      "\n",
      "           0       0.93      0.81      0.87       157\n",
      "           1       0.82      0.77      0.80       170\n",
      "           2       0.94      0.89      0.91        81\n",
      "           3       0.80      0.98      0.88       166\n",
      "\n",
      "    accuracy                           0.86       574\n",
      "   macro avg       0.87      0.86      0.86       574\n",
      "weighted avg       0.86      0.86      0.86       574\n",
      "\n"
     ]
    }
   ],
   "source": [
    "''' prediction '''\n",
    "y_pred=model.predict(X_test)\n",
    "\n",
    "''' retreiving max val from predicted values '''\n",
    "pred = np.argmax(y_pred,axis=1)\n",
    "\n",
    "''' retreiving max val from actual values '''\n",
    "ground = np.argmax(y_test,axis=1)\n",
    "\n",
    "''' classificaion report '''\n",
    "print(classification_report(ground,pred))"
   ]
  },
  {
   "cell_type": "code",
   "execution_count": 34,
   "id": "135cbd0f",
   "metadata": {},
   "outputs": [],
   "source": [
    "import matplotlib.pyplot as plt"
   ]
  },
  {
   "cell_type": "code",
   "execution_count": 35,
   "id": "f2ee69d2",
   "metadata": {},
   "outputs": [],
   "source": [
    "acc=history.history['accuracy']\n",
    "val_acc=history.history['val_accuracy']\n",
    "loss=history.history['loss']\n",
    "val_loss=history.history['val_loss']"
   ]
  },
  {
   "cell_type": "code",
   "execution_count": 36,
   "id": "9543aaba",
   "metadata": {
    "execution": {
     "iopub.execute_input": "2021-04-24T14:53:42.083620Z",
     "iopub.status.busy": "2021-04-24T14:53:42.082516Z",
     "iopub.status.idle": "2021-04-24T14:53:42.279415Z",
     "shell.execute_reply": "2021-04-24T14:53:42.279990Z"
    },
    "papermill": {
     "duration": 1.002491,
     "end_time": "2021-04-24T14:53:42.280214",
     "exception": false,
     "start_time": "2021-04-24T14:53:41.277723",
     "status": "completed"
    },
    "tags": []
   },
   "outputs": [
    {
     "data": {
      "image/png": "[encoded data removed]",
      "text/plain": [
       "<Figure size 432x288 with 1 Axes>"
      ]
     },
     "metadata": {
      "needs_background": "light"
     },
     "output_type": "display_data"
    },
    {
     "data": {
      "text/plain": [
       "<Figure size 432x288 with 0 Axes>"
      ]
     },
     "metadata": {},
     "output_type": "display_data"
    }
   ],
   "source": [
    "''' training accuracy and validation accuracy graph '''\n",
    "epochs = range(len(acc))\n",
    "plt.plot(epochs, history.history['accuracy'], 'r', label='Accuracy of Training data')\n",
    "plt.plot(epochs, history.history['val_accuracy'], 'b', label='Accuracy of Validation data')\n",
    "plt.title('Training vs validation accuracy')\n",
    "plt.legend(loc=0)\n",
    "plt.figure()\n",
    "plt.show()"
   ]
  },
  {
   "cell_type": "code",
   "execution_count": 37,
   "id": "089524a6",
   "metadata": {
    "execution": {
     "iopub.execute_input": "2021-04-24T14:53:44.194435Z",
     "iopub.status.busy": "2021-04-24T14:53:44.191686Z",
     "iopub.status.idle": "2021-04-24T14:53:44.351385Z",
     "shell.execute_reply": "2021-04-24T14:53:44.350772Z"
    },
    "papermill": {
     "duration": 1.279102,
     "end_time": "2021-04-24T14:53:44.351527",
     "exception": false,
     "start_time": "2021-04-24T14:53:43.072425",
     "status": "completed"
    },
    "tags": []
   },
   "outputs": [
    {
     "data": {
      "image/png": "[encoded data removed]",
      "text/plain": [
       "<Figure size 432x288 with 1 Axes>"
      ]
     },
     "metadata": {
      "needs_background": "light"
     },
     "output_type": "display_data"
    },
    {
     "data": {
      "text/plain": [
       "<Figure size 432x288 with 0 Axes>"
      ]
     },
     "metadata": {},
     "output_type": "display_data"
    }
   ],
   "source": [
    "''' training loss and validation loss graph '''\n",
    "epochs = range(len(loss))\n",
    "plt.plot(epochs, history.history['loss'], 'r', label='Loss of Training data')\n",
    "plt.plot(epochs, history.history['val_loss'], 'b', label='Loss of Validation data')\n",
    "plt.title('Training vs validation loss')\n",
    "plt.legend(loc=0)\n",
    "plt.figure()\n",
    "plt.show()"
   ]
  }
 ],
 "metadata": {
  "kernelspec": {
   "display_name": "Python 3",
   "language": "python",
   "name": "python3"
  },
  "language_info": {
   "codemirror_mode": {
    "name": "ipython",
    "version": 3
   },
   "file_extension": ".py",
   "mimetype": "text/x-python",
   "name": "python",
   "nbconvert_exporter": "python",
   "pygments_lexer": "ipython3",
   "version": "3.8.8"
  },
  "papermill": {
   "default_parameters": {},
   "duration": 568.214631,
   "end_time": "2021-04-24T14:54:03.271170",
   "environment_variables": {},
   "exception": null,
   "input_path": "__notebook__.ipynb",
   "output_path": "__notebook__.ipynb",
   "parameters": {},
   "start_time": "2021-04-24T14:44:35.056539",
   "version": "2.3.3"
  }
 },
 "nbformat": 4,
 "nbformat_minor": 5
}
